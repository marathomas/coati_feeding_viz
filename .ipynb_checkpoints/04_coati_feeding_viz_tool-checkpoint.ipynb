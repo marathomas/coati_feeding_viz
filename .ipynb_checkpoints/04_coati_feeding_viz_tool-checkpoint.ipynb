{
 "cells": [
  {
   "cell_type": "code",
   "execution_count": null,
   "metadata": {},
   "outputs": [],
   "source": [
    "import numpy as np\n",
    "import plotly\n",
    "from plotly.offline import iplot, plot\n",
    "from plotly.offline import init_notebook_mode\n",
    "from plotly import graph_objs as go\n",
    "init_notebook_mode()\n",
    "\n",
    "import pandas as pd\n",
    "import pickle\n",
    "import os\n",
    "import seaborn as sns\n",
    "from ipywidgets import Image, HTML, Layout, Output, VBox, HBox\n",
    "from IPython.display import Audio, display\n",
    "\n",
    "import pickle"
   ]
  },
  {
   "cell_type": "code",
   "execution_count": 25,
   "metadata": {},
   "outputs": [],
   "source": [
    "SR=48000"
   ]
  },
  {
   "cell_type": "code",
   "execution_count": 4,
   "metadata": {},
   "outputs": [],
   "source": [
    "df = pd.read_pickle('spec_df.pkl')"
   ]
  },
  {
   "cell_type": "code",
   "execution_count": 5,
   "metadata": {},
   "outputs": [],
   "source": [
    "df.rename(columns={'duration_s': 'dur',\n",
    "                   'Start': 'start'\n",
    "                  }, inplace=True)"
   ]
  },
  {
   "cell_type": "code",
   "execution_count": 7,
   "metadata": {},
   "outputs": [],
   "source": [
    "df.label = [x if x!='squal' else 'squeal' for x in df.label]"
   ]
  },
  {
   "cell_type": "code",
   "execution_count": 5,
   "metadata": {},
   "outputs": [],
   "source": [
    "df = df.drop(columns=['start_s'])\n",
    "#df.reset_index(inplace=True)"
   ]
  },
  {
   "cell_type": "code",
   "execution_count": 6,
   "metadata": {},
   "outputs": [],
   "source": [
    "distinct_colors_20 = ['#e6194b', '#3cb44b', '#ffe119', '#4363d8', '#f58231', \n",
    "                       '#911eb4', '#46f0f0', '#f032e6', '#bcf60c', '#fabebe', \n",
    "                       '#008080', '#e6beff', '#9a6324', '#fffac8', '#800000', \n",
    "                       '#aaffc3', '#808000', '#ffd8b1', '#000075', '#808080', \n",
    "                       '#ffffff', '#000000']  "
   ]
  },
  {
   "cell_type": "code",
   "execution_count": 8,
   "metadata": {},
   "outputs": [],
   "source": [
    "# Load data (deserialize)\n",
    "with open('image_data.pickle', 'rb') as handle:\n",
    "    image_data = pickle.load(handle)"
   ]
  },
  {
   "cell_type": "code",
   "execution_count": 9,
   "metadata": {},
   "outputs": [],
   "source": [
    "labeltypes = sorted(list(set(df['label'])))\n",
    "if len(labeltypes)<=len(distinct_colors_20):\n",
    "    color_dict = dict(zip(labeltypes, distinct_colors_20[0:len(labeltypes)]))\n",
    "else:\n",
    "    distinct_colors = distinct_colors_20*len(labeltypes)\n",
    "    color_dict = dict(zip(labeltypes, distinct_colors[0:len(labeltypes)]))\n",
    "\n",
    "audio_dict = {}\n",
    "sub_df_dict = {}\n",
    "\n",
    "for i,labeltype in enumerate(labeltypes):\n",
    "    sub_df = df.loc[df.label==labeltype,:]\n",
    "    sub_df_dict[i] = sub_df\n",
    "    audio_dict[i] = sub_df['raw_audio']\n",
    "\n",
    "#df = df.drop(columns='raw_audio')\n",
    "    \n",
    "traces = []\n",
    "for i,labeltype in enumerate(labeltypes):\n",
    "    sub_df = sub_df_dict[i]\n",
    "    trace = go.Scatter3d(x=sub_df.UMAP1, \n",
    "                         y=sub_df.UMAP2, \n",
    "                         z=sub_df.UMAP3, \n",
    "                         mode='markers',\n",
    "                         marker=dict(size=4,\n",
    "                                     color=color_dict[labeltype],\n",
    "                                     opacity=0.8),\n",
    "                         name=labeltype,\n",
    "                         #hovertemplate = [str(x) for x in sub_df.index_id])\n",
    "                         hovertemplate = [x for x in sub_df.label])\n",
    "    traces.append(trace)\n",
    "\n",
    "layout = go.Layout(\n",
    "    scene=go.layout.Scene(\n",
    "        xaxis = go.layout.scene.XAxis(title='UMAP1'),\n",
    "        yaxis = go.layout.scene.YAxis(title='UMAP2'),\n",
    "        zaxis = go.layout.scene.ZAxis(title='UMAP3')),\n",
    "        height = 700,\n",
    "        width = 700)\n",
    "\n",
    "figure = go.Figure(data=traces, layout=layout)"
   ]
  },
  {
   "cell_type": "code",
   "execution_count": 10,
   "metadata": {},
   "outputs": [],
   "source": [
    "fig = go.FigureWidget(figure)"
   ]
  },
  {
   "cell_type": "code",
   "execution_count": 13,
   "metadata": {},
   "outputs": [],
   "source": [
    "image_widget = Image(\n",
    "    value=image_data['7.3.2004.PQ.d3b_35.655'],\n",
    "    #layout=Layout(height='252px', width='400px')\n",
    "    #layout=Layout(height='126px', width='200px')\n",
    "    layout=Layout(height='189px', width='300px')\n",
    ")"
   ]
  },
  {
   "cell_type": "code",
   "execution_count": 14,
   "metadata": {},
   "outputs": [],
   "source": [
    "details = HTML()"
   ]
  },
  {
   "cell_type": "code",
   "execution_count": 20,
   "metadata": {},
   "outputs": [],
   "source": [
    "def hover_fn(trace, points, state):\n",
    "    \n",
    "    if points.point_inds:\n",
    "        # get the index of the data point being hovered\n",
    "        trace_ind = points.trace_index\n",
    "        sub_df = sub_df_dict[trace_ind]\n",
    "        ind = points.point_inds[0]\n",
    "\n",
    "        # Update image widget\n",
    "        img_ind = sub_df.iloc[ind]['callID']\n",
    "        image_widget.value = image_data[img_ind]  \n",
    "\n",
    "        # Update details\n",
    "        details.value = sub_df.iloc[ind][['UMAP1', 'UMAP2', 'UMAP3', 'label', 'project_id', 'start']].to_frame().to_html()\n",
    "\n",
    "\n",
    "for i in range(len(traces)):\n",
    "    fig.data[i].on_hover(hover_fn)"
   ]
  },
  {
   "cell_type": "code",
   "execution_count": 27,
   "metadata": {},
   "outputs": [],
   "source": [
    "def play_audio(ind, i):\n",
    "    data = audio_dict[i]\n",
    "    display(Audio(data.iloc[ind], rate=SR, autoplay=True))\n",
    "    \n",
    "audio_widget = Output()\n",
    "audio_widget.layout.visibility = 'hidden'\n",
    "\n",
    "def click_fn(trace, points, selector):\n",
    "    \n",
    "    if points.point_inds:\n",
    "        \n",
    "        # get the index of the data point being hovered\n",
    "        trace_ind = points.trace_index\n",
    "        ind = points.point_inds[0]\n",
    "        \n",
    "        with audio_widget:\n",
    "            play_audio(ind, trace_ind)\n",
    "\n",
    "for i in range(len(traces)):\n",
    "    fig.data[i].on_click(click_fn)"
   ]
  },
  {
   "cell_type": "code",
   "execution_count": 28,
   "metadata": {},
   "outputs": [
    {
     "data": {
      "application/vnd.jupyter.widget-view+json": {
       "model_id": "9ff0a2e45b8e450a9d86f714e6717ea6",
       "version_major": 2,
       "version_minor": 0
      },
      "text/plain": [
       "HBox(children=(VBox(children=(HTML(value='<table border=\"1\" class=\"dataframe\">\\n  <thead>\\n    <tr style=\"text…"
      ]
     },
     "metadata": {},
     "output_type": "display_data"
    }
   ],
   "source": [
    "HBox([\n",
    "      VBox([details, image_widget, audio_widget]),\n",
    "    fig])"
   ]
  },
  {
   "cell_type": "code",
   "execution_count": null,
   "metadata": {},
   "outputs": [],
   "source": []
  }
 ],
 "metadata": {
  "kernelspec": {
   "display_name": "Python 3",
   "language": "python",
   "name": "python3"
  },
  "language_info": {
   "codemirror_mode": {
    "name": "ipython",
    "version": 3
   },
   "file_extension": ".py",
   "mimetype": "text/x-python",
   "name": "python",
   "nbconvert_exporter": "python",
   "pygments_lexer": "ipython3",
   "version": "3.7.10"
  }
 },
 "nbformat": 4,
 "nbformat_minor": 2
}
